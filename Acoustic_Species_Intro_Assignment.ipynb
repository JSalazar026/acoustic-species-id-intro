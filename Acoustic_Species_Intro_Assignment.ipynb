{
  "nbformat": 4,
  "nbformat_minor": 0,
  "metadata": {
    "colab": {
      "provenance": []
    },
    "kernelspec": {
      "name": "python3",
      "display_name": "Python 3"
    },
    "language_info": {
      "name": "python"
    }
  },
  "cells": [
    {
      "cell_type": "code",
      "execution_count": 1,
      "metadata": {
        "id": "ESmj6IeoSSSf"
      },
      "outputs": [],
      "source": [
        "import pandas as pd\n",
        "import random\n",
        "import csv"
      ]
    },
    {
      "cell_type": "code",
      "source": [
        "def stratify_csv(input_csv_path):\n",
        "  # Define the column names for the output CSV file\n",
        "  header = ['AudioMothCode','AudioMothID','SourceFile','Directory','FileName',\n",
        "          'FileSize','Encoding','NumChannels','SampleRate','AvgBytesPerSec',\n",
        "          'BitsPerSample','StartDateTime','Duration','Error','Comment','Artist',\n",
        "          'FileCreateDate','FileType','FileTypeExtension','MIMEType']\n",
        "  HOURS_IN_DAY = 24\n",
        "  \n",
        "  try:\n",
        "    # Read in the inputted CSV path if it exists. Otherwise return failure\n",
        "    df = pd.read_csv(input_csv_path)\n",
        "    # Create an output CSV file to write to\n",
        "    output_file = open('Stratified_Peru_2019_AudioMoth_Data.csv', 'w')\n",
        "    writer = csv.writer(output_file)\n",
        "    writer.writerow(header)\n",
        "\n",
        "    # Just filter out all the clips that are less than a minute from the data set\n",
        "    long_AudioMoth_recordings_df = df[df['Duration'] >= 60]\n",
        "\n",
        "    # Complete the following procedure for each unique AudioMoth device\n",
        "    for audioMoth_num in range(len(long_AudioMoth_recordings_df['AudioMothCode'].unique())):\n",
        "      # Make a DataFrame consisting of all clips for a single AudioMoth device\n",
        "      individual_AudioMoth_df = long_AudioMoth_recordings_df[long_AudioMoth_recordings_df['AudioMothCode'] == long_AudioMoth_recordings_df['AudioMothCode'].unique()[audioMoth_num]].copy()\n",
        "      individual_AudioMoth_df.reset_index(inplace = True, drop = True)\n",
        "      \n",
        "      # Make an Hour column in AudioMoth DataFrame corresponding to what hour of\n",
        "      # the day the clip is taken, to make filtering DataFrame by Hour easier\n",
        "      for index in range(individual_AudioMoth_df.shape[0]):\n",
        "        # We retrieve the hour that the clip was taken by looking at the start\n",
        "        # time that was noted in the Comment column of the individual record\n",
        "        individual_AudioMoth_df.loc[index,'Hour'] = int(individual_AudioMoth_df.loc[index, 'Comment'][12:14])\n",
        "      \n",
        "      # Check if the AudioMoth DataFrame has at least 24 clips and\n",
        "      # there are clips for each hour of the day. If so, write data to csv\n",
        "      if(individual_AudioMoth_df.shape[0] >= 24) & (len(individual_AudioMoth_df['Hour'].unique()) == HOURS_IN_DAY):\n",
        "          for hour in range(HOURS_IN_DAY):\n",
        "            clips_per_hour_AudioMoth_df = individual_AudioMoth_df[individual_AudioMoth_df['Hour'] == hour].copy()\n",
        "\n",
        "            # We don't want to output the Hour column in the CSV file, since it\n",
        "            # was not part of the original csv, so drop the column from DataFrame\n",
        "            clips_per_hour_AudioMoth_df.drop('Hour', axis = 1, inplace = True)\n",
        "\n",
        "            # Pick a random clip and write it to the output csv file\n",
        "            writer.writerow(clips_per_hour_AudioMoth_df.iloc[random.randint(0, clips_per_hour_AudioMoth_df.shape[0] - 1)])\n",
        "    \n",
        "    # Close the file to save our changes\n",
        "    output_file.close()\n",
        "  except:\n",
        "    return False  \n",
        "\n",
        "  # If we made it here, then no errors occurred\n",
        "  return True"
      ],
      "metadata": {
        "id": "j2XtB3RPVJfX"
      },
      "execution_count": 62,
      "outputs": []
    }
  ]
}